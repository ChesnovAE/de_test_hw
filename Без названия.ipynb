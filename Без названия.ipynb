{
 "cells": [
  {
   "cell_type": "code",
   "execution_count": 1,
   "metadata": {},
   "outputs": [],
   "source": [
    "import os\n",
    "import shutil\n",
    "import datetime\n",
    "import pandas as pd\n",
    "from pyspark import SparkContext, SparkConf, HiveContext\n",
    "from pyspark.sql import SparkSession, Row, functions, Column\n",
    "from pyspark.sql.types import StringType \n",
    "import pyspark.sql.functions as F"
   ]
  },
  {
   "cell_type": "code",
   "execution_count": 2,
   "metadata": {},
   "outputs": [],
   "source": [
    "def _get_last_nonnull_id(*osm_ids):\n",
    "    for osm_id in osm_ids:\n",
    "        if not pd.isna(osm_id):\n",
    "            return osm_id\n",
    "_last_nonnull_udf = F.udf(lambda osm_ids: _get_last_nonnull_id(*osm_ids), StringType())        \n",
    "\n",
    "class SparkLoader:\n",
    "    def __init__(self, memory=2, cores=2, driver_memory=2, app_name='osm'):\n",
    "        self._memory = memory\n",
    "        self._cores = cores\n",
    "        self._driver_memory = driver_memory\n",
    "        self._app_name = app_name\n",
    "        self._udf_cols = list(reversed([F.col(f'ADMIN_L{i}D') for i in range(1, 11)]))\n",
    "        self._session = self._create_session()\n",
    "    \n",
    "    @property\n",
    "    def session(self):\n",
    "        return self._session\n",
    "    \n",
    "    def _create_session(self):\n",
    "        spark_conf = SparkConf().setAppName(self._app_name)\n",
    "        spark_conf.set('spark.executor.memory', f'{self._memory}g')\n",
    "        spark_conf.set('spark.executor.cores', f'{self._cores}')\n",
    "        spark_conf.set('spark.driver.memory', f'{self._driver_memory}g')\n",
    "        spark_conf.set('spark.driver.extraClassPath', '/home/ripper/postgresql-42.2.19.jar')\n",
    "        spark_conf.set('spark.jars.packages', 'org.postgresql:postgresql:42.2.19')\n",
    "        return SparkSession.Builder().config(conf=spark_conf).getOrCreate()\n",
    "    \n",
    "    def process_csv_data(self, path):\n",
    "        df = self._session.read.options(header=True, delimiter=';').csv(path)\n",
    "        return df.withColumn('Par_osm_id', _last_nonnull_udf(F.array(self._udf_cols))) \\\n",
    "            .withColumnRenamed('OSM_ID', 'Osm_id') \\\n",
    "            .withColumnRenamed('NAME', 'Name') \\\n",
    "            .withColumnRenamed('ADMIN_LVL', 'Level') \\\n",
    "            .withColumn('val_to', F.lit(datetime.datetime.now())) \\\n",
    "            .withColumn('val_from', F.lit(datetime.datetime.max)) \\\n",
    "            .select('Osm_id', 'Par_osm_id', 'Name', 'Level', 'val_to', 'val_from')\n",
    "    \n",
    "    def write_data(self, df, filepath='osm.parquet', mode='append'):\n",
    "        df.write.mode('append').parquet(filepath)\n",
    "    \n",
    "    def read_parquet(self, path='osm.parquet'):\n",
    "        return self._session.read.parquet(path)\n",
    "    \n",
    "    def write2dbase(self, df, table='test'):\n",
    "        df.write.format(\"jdbc\"). \\\n",
    "            options(\n",
    "                     url='jdbc:postgresql://localhost:5454/',\n",
    "                     dbtable=table,\n",
    "                     user='postgres',\n",
    "                     password='docker',\n",
    "                     driver='org.postgresql.Driver'\n",
    "            ).saveAsTable(table)\n",
    "    \n",
    "    def read4dbase(self, df, table='test'):\n",
    "        return self._session.read.format(\"jdbc\"). \\\n",
    "        options(\n",
    "                 url='jdbc:postgresql://localhost:5454/',\n",
    "                 dbtable=table,\n",
    "                 user='postgres',\n",
    "                 password='docker',\n",
    "                 driver='org.postgresql.Driver'\n",
    "        ).load()\n",
    "    "
   ]
  },
  {
   "cell_type": "code",
   "execution_count": 3,
   "metadata": {},
   "outputs": [],
   "source": [
    "dir_path = 'data'\n",
    "files = list(map(lambda x: os.path.join(dir_path, x),os.listdir(dir_path)))"
   ]
  },
  {
   "cell_type": "code",
   "execution_count": 4,
   "metadata": {},
   "outputs": [],
   "source": [
    "loader = SparkLoader()"
   ]
  },
  {
   "cell_type": "code",
   "execution_count": 5,
   "metadata": {},
   "outputs": [],
   "source": [
    "if os.path.exists('osm.parquet'):\n",
    "    shutil.rmtree('osm.parquet')\n",
    "df = None\n",
    "for file in files:\n",
    "    if df is None:\n",
    "        df = loader.process_csv_data(file)\n",
    "    else:\n",
    "        df = df.union(loader.process_csv_data(file))\n",
    "#     loader.write_data(df)"
   ]
  },
  {
   "cell_type": "code",
   "execution_count": 6,
   "metadata": {},
   "outputs": [],
   "source": [
    "old_data = loader.session.read.format(\"jdbc\"). \\\n",
    "options(\n",
    "         url='jdbc:postgresql://localhost:5454/',\n",
    "         dbtable='test',\n",
    "         user='postgres',\n",
    "         password='docker',\n",
    "         driver='org.postgresql.Driver'\n",
    ").load()"
   ]
  },
  {
   "cell_type": "code",
   "execution_count": 8,
   "metadata": {},
   "outputs": [
    {
     "data": {
      "text/plain": [
       "462"
      ]
     },
     "execution_count": 8,
     "metadata": {},
     "output_type": "execute_result"
    }
   ],
   "source": [
    "df.count()"
   ]
  },
  {
   "cell_type": "code",
   "execution_count": 9,
   "metadata": {},
   "outputs": [
    {
     "data": {
      "text/plain": [
       "462"
      ]
     },
     "execution_count": 9,
     "metadata": {},
     "output_type": "execute_result"
    }
   ],
   "source": [
    "old_data.count()"
   ]
  },
  {
   "cell_type": "code",
   "execution_count": 10,
   "metadata": {},
   "outputs": [
    {
     "data": {
      "text/plain": [
       "DataFrame[Osm_id: string, Par_osm_id: string, Name: string, Level: string, val_to: timestamp, val_from: timestamp]"
      ]
     },
     "execution_count": 10,
     "metadata": {},
     "output_type": "execute_result"
    }
   ],
   "source": [
    "df"
   ]
  },
  {
   "cell_type": "code",
   "execution_count": null,
   "metadata": {},
   "outputs": [],
   "source": []
  },
  {
   "cell_type": "code",
   "execution_count": 42,
   "metadata": {},
   "outputs": [],
   "source": [
    "table = loader.session.read.format(\"jdbc\"). \\\n",
    "options(\n",
    "         url='jdbc:postgresql://localhost:5454/',\n",
    "         dbtable='test',\n",
    "         user='postgres',\n",
    "         password='docker',\n",
    "         driver='org.postgresql.Driver'\n",
    ").load()"
   ]
  },
  {
   "cell_type": "code",
   "execution_count": 44,
   "metadata": {},
   "outputs": [
    {
     "name": "stdout",
     "output_type": "stream",
     "text": [
      "+-------+----------+--------------------+-----+--------------------+--------------------+\n",
      "| Osm_id|Par_osm_id|                Name|Level|              val_to|            val_from|\n",
      "+-------+----------+--------------------+-----+--------------------+--------------------+\n",
      "|5827722|   1430613|Правобережный адм...|    9|2021-03-21 06:30:...|9999-12-31 23:59:...|\n",
      "|5827642|   1430613|Октябрьский админ...|    9|2021-03-21 06:30:...|9999-12-31 23:59:...|\n",
      "|5826259|   1430613|Ленинский админис...|    9|2021-03-21 06:30:...|9999-12-31 23:59:...|\n",
      "|5827226|   1430613|Свердловский адми...|    9|2021-03-21 06:30:...|9999-12-31 23:59:...|\n",
      "| 145454|   1221148|   Иркутская область|    4|2021-03-21 06:30:...|9999-12-31 23:59:...|\n",
      "|  60189|      null|              Россия|    2|2021-03-21 06:30:...|9999-12-31 23:59:...|\n",
      "|5756862|   1456786|сельское поселени...|    8|2021-03-21 06:30:...|9999-12-31 23:59:...|\n",
      "|5756859|   1456786|сельское поселени...|    8|2021-03-21 06:30:...|9999-12-31 23:59:...|\n",
      "|5756857|   1456786|сельское поселени...|    8|2021-03-21 06:30:...|9999-12-31 23:59:...|\n",
      "|5756855|   1456786|сельское поселени...|    8|2021-03-21 06:30:...|9999-12-31 23:59:...|\n",
      "|5756854|   1456786|сельское поселени...|    8|2021-03-21 06:30:...|9999-12-31 23:59:...|\n",
      "|5756853|   1456786|Улейское сельское...|    8|2021-03-21 06:30:...|9999-12-31 23:59:...|\n",
      "|5756861|   1456786|сельское поселени...|    8|2021-03-21 06:30:...|9999-12-31 23:59:...|\n",
      "|5756858|   1456786|сельское поселени...|    8|2021-03-21 06:30:...|9999-12-31 23:59:...|\n",
      "|5756856|   1456786|сельское поселени...|    8|2021-03-21 06:30:...|9999-12-31 23:59:...|\n",
      "|5756696|   1456788|Ново-Николаевское...|    8|2021-03-21 06:30:...|9999-12-31 23:59:...|\n",
      "|5756852|   1456786|Каха-Онгойское се...|    8|2021-03-21 06:30:...|9999-12-31 23:59:...|\n",
      "|5756693|   1456788|Капсальское сельс...|    8|2021-03-21 06:30:...|9999-12-31 23:59:...|\n",
      "|5756699|   1456788|Усть-Ордынское се...|    8|2021-03-21 06:30:...|9999-12-31 23:59:...|\n",
      "|5756691|   1456788|Гаханское сельско...|    8|2021-03-21 06:30:...|9999-12-31 23:59:...|\n",
      "+-------+----------+--------------------+-----+--------------------+--------------------+\n",
      "only showing top 20 rows\n",
      "\n"
     ]
    }
   ],
   "source": [
    "table.show()"
   ]
  },
  {
   "cell_type": "code",
   "execution_count": null,
   "metadata": {},
   "outputs": [],
   "source": []
  }
 ],
 "metadata": {
  "kernelspec": {
   "display_name": "Python 3",
   "language": "python",
   "name": "python3"
  },
  "language_info": {
   "codemirror_mode": {
    "name": "ipython",
    "version": 3
   },
   "file_extension": ".py",
   "mimetype": "text/x-python",
   "name": "python",
   "nbconvert_exporter": "python",
   "pygments_lexer": "ipython3",
   "version": "3.7.3"
  }
 },
 "nbformat": 4,
 "nbformat_minor": 4
}
