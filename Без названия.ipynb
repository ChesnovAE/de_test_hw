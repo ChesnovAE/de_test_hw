{
 "cells": [
  {
   "cell_type": "code",
   "execution_count": 1,
   "metadata": {},
   "outputs": [],
   "source": [
    "from pyspark import SparkContext, SparkConf, HiveContext\n",
    "from pyspark.sql import SparkSession, Row, functions, Column\n",
    "from pyspark.sql.types import *\n",
    "import pyspark.sql.functions as F"
   ]
  },
  {
   "cell_type": "code",
   "execution_count": 2,
   "metadata": {},
   "outputs": [],
   "source": [
    "def create_config(app_name,\n",
    "                  memory=1,\n",
    "                  instances=1,\n",
    "                  cores=2,\n",
    "                  max_result_size=50,\n",
    "                  driver_memory=1):\n",
    "    \"\"\"\n",
    "    simple wrapper for SparkConfig().set()\n",
    "    :param memory: int, max provided memory, in gigabytes\n",
    "    :param instances:\n",
    "    :param cores:\n",
    "    :param max_result_size: int, max result size in gigabytes\n",
    "    :return: pyspark.conf.SparkConf object\n",
    "    \"\"\"\n",
    "    spark_conf = SparkConf().setAppName(app_name)\n",
    "    spark_conf.set('spark.executor.memory', f'{memory}g')\n",
    "#     spark_conf.set('spark.executor.instances', f'{instances}')\n",
    "    spark_conf.set('spark.executor.cores', f'{cores}')\n",
    "#     spark_conf.set('spark.driver.maxResultSize', f'{max_result_size}g')\n",
    "    spark_conf.set('spark.driver.memory', f'{driver_memory}g')\n",
    "#     spark_conf.set(\"spark.sql.sources.partitionOverwriteMode\", \"dynamic\")\n",
    "#     spark_conf.set('hive.exec.dynamic.partition.mode','nonstrict')\n",
    "    return spark_conf\n",
    "\n",
    "def create_session(conf,):\n",
    "    return SparkSession.Builder().config(conf=conf).getOrCreate()\n",
    "\n",
    "ses = create_session(create_config('tmp_writer'))"
   ]
  },
  {
   "cell_type": "code",
   "execution_count": 3,
   "metadata": {},
   "outputs": [],
   "source": [
    "df = ses.read.options(delimiter=';').csv('admin_lev8.txt')"
   ]
  },
  {
   "cell_type": "code",
   "execution_count": 4,
   "metadata": {},
   "outputs": [
    {
     "name": "stdout",
     "output_type": "stream",
     "text": [
      "+--------------------+-------+-------+---------+--------+-------+---------+--------+---------+--------+---------+--------------------+---------+-----------------+---------+--------------------+---------+--------------------+---------+--------+---------+--------+---------+--------+----------+---------+\n",
      "|                 _c0|    _c1|    _c2|      _c3|     _c4|    _c5|      _c6|     _c7|      _c8|     _c9|     _c10|                _c11|     _c12|             _c13|     _c14|                _c15|     _c16|                _c17|     _c18|    _c19|     _c20|    _c21|     _c22|    _c23|      _c24|     _c25|\n",
      "+--------------------+-------+-------+---------+--------+-------+---------+--------+---------+--------+---------+--------------------+---------+-----------------+---------+--------------------+---------+--------------------+---------+--------+---------+--------+---------+--------+----------+---------+\n",
      "|                NAME|NAME_EN|NAME_RU|ADMIN_LVL|OSM_TYPE| OSM_ID|ADMIN_L1D|ADMIN_L1|ADMIN_L2D|ADMIN_L2|ADMIN_L3D|            ADMIN_L3|ADMIN_L4D|         ADMIN_L4|ADMIN_L5D|            ADMIN_L5|ADMIN_L6D|            ADMIN_L6|ADMIN_L7D|ADMIN_L7|ADMIN_L8D|ADMIN_L8|ADMIN_L9D|ADMIN_L9|ADMIN_L10D|ADMIN_L10|\n",
      "|сельское поселени...|   null|   null|        8|relation|5756862|     null|    null|    60189|  Россия|  1221148|Сибирский федерал...|   145454|Иркутская область|3438290.0|Усть-Ордынский Бу...|  1456786|      Осинский район|     null|    null|     null|    null|     null|    null|      null|     null|\n",
      "|сельское поселени...|   null|   null|        8|relation|5756859|     null|    null|    60189|  Россия|  1221148|Сибирский федерал...|   145454|Иркутская область|3438290.0|Усть-Ордынский Бу...|  1456786|      Осинский район|     null|    null|     null|    null|     null|    null|      null|     null|\n",
      "|сельское поселени...|   null|   null|        8|relation|5756857|     null|    null|    60189|  Россия|  1221148|Сибирский федерал...|   145454|Иркутская область|3438290.0|Усть-Ордынский Бу...|  1456786|      Осинский район|     null|    null|     null|    null|     null|    null|      null|     null|\n",
      "|сельское поселени...|   null|   null|        8|relation|5756855|     null|    null|    60189|  Россия|  1221148|Сибирский федерал...|   145454|Иркутская область|3438290.0|Усть-Ордынский Бу...|  1456786|      Осинский район|     null|    null|     null|    null|     null|    null|      null|     null|\n",
      "|сельское поселени...|   null|   null|        8|relation|5756854|     null|    null|    60189|  Россия|  1221148|Сибирский федерал...|   145454|Иркутская область|3438290.0|Усть-Ордынский Бу...|  1456786|      Осинский район|     null|    null|     null|    null|     null|    null|      null|     null|\n",
      "|Улейское сельское...|   null|   null|        8|relation|5756853|     null|    null|    60189|  Россия|  1221148|Сибирский федерал...|   145454|Иркутская область|3438290.0|Усть-Ордынский Бу...|  1456786|      Осинский район|     null|    null|     null|    null|     null|    null|      null|     null|\n",
      "|сельское поселени...|   null|   null|        8|relation|5756861|     null|    null|    60189|  Россия|  1221148|Сибирский федерал...|   145454|Иркутская область|3438290.0|Усть-Ордынский Бу...|  1456786|      Осинский район|     null|    null|     null|    null|     null|    null|      null|     null|\n",
      "|сельское поселени...|   null|   null|        8|relation|5756858|     null|    null|    60189|  Россия|  1221148|Сибирский федерал...|   145454|Иркутская область|3438290.0|Усть-Ордынский Бу...|  1456786|      Осинский район|     null|    null|     null|    null|     null|    null|      null|     null|\n",
      "|сельское поселени...|   null|   null|        8|relation|5756856|     null|    null|    60189|  Россия|  1221148|Сибирский федерал...|   145454|Иркутская область|3438290.0|Усть-Ордынский Бу...|  1456786|      Осинский район|     null|    null|     null|    null|     null|    null|      null|     null|\n",
      "|Ново-Николаевское...|   null|   null|        8|relation|5756696|     null|    null|    60189|  Россия|  1221148|Сибирский федерал...|   145454|Иркутская область|3438290.0|Усть-Ордынский Бу...|  1456788|Эхирит-Булагатски...|     null|    null|     null|    null|     null|    null|      null|     null|\n",
      "|Каха-Онгойское се...|   null|   null|        8|relation|5756852|     null|    null|    60189|  Россия|  1221148|Сибирский федерал...|   145454|Иркутская область|3438290.0|Усть-Ордынский Бу...|  1456786|      Осинский район|     null|    null|     null|    null|     null|    null|      null|     null|\n",
      "|Капсальское сельс...|   null|   null|        8|relation|5756693|     null|    null|    60189|  Россия|  1221148|Сибирский федерал...|   145454|Иркутская область|3438290.0|Усть-Ордынский Бу...|  1456788|Эхирит-Булагатски...|     null|    null|     null|    null|     null|    null|      null|     null|\n",
      "|Усть-Ордынское се...|   null|   null|        8|relation|5756699|     null|    null|    60189|  Россия|  1221148|Сибирский федерал...|   145454|Иркутская область|3438290.0|Усть-Ордынский Бу...|  1456788|Эхирит-Булагатски...|     null|    null|     null|    null|     null|    null|      null|     null|\n",
      "|Гаханское сельско...|   null|   null|        8|relation|5756691|     null|    null|    60189|  Россия|  1221148|Сибирский федерал...|   145454|Иркутская область|3438290.0|Усть-Ордынский Бу...|  1456788|Эхирит-Булагатски...|     null|    null|     null|    null|     null|    null|      null|     null|\n",
      "|Шелеховское город...|   null|   null|        8|relation|5756314|     null|    null|    60189|  Россия|  1221148|Сибирский федерал...|   145454|Иркутская область|     null|                null|  1459516|   Шелеховский район|     null|    null|     null|    null|     null|    null|      null|     null|\n",
      "|Корсукское сельск...|   null|   null|        8|relation|5756694|     null|    null|    60189|  Россия|  1221148|Сибирский федерал...|   145454|Иркутская область|3438290.0|Усть-Ордынский Бу...|  1456788|Эхирит-Булагатски...|     null|    null|     null|    null|     null|    null|      null|     null|\n",
      "|сельское поселени...|   null|   null|        8|relation|5756860|     null|    null|    60189|  Россия|  1221148|Сибирский федерал...|   145454|Иркутская область|3438290.0|Усть-Ордынский Бу...|  1456786|      Осинский район|     null|    null|     null|    null|     null|    null|      null|     null|\n",
      "|Тугутуйское сельс...|   null|   null|        8|relation|5756698|     null|    null|    60189|  Россия|  1221148|Сибирский федерал...|   145454|Иркутская область|3438290.0|Усть-Ордынский Бу...|  1456788|Эхирит-Булагатски...|     null|    null|     null|    null|     null|    null|      null|     null|\n",
      "|Олойское сельское...|   null|   null|        8|relation|5756697|     null|    null|    60189|  Россия|  1221148|Сибирский федерал...|   145454|Иркутская область|3438290.0|Усть-Ордынский Бу...|  1456788|Эхирит-Булагатски...|     null|    null|     null|    null|     null|    null|      null|     null|\n",
      "+--------------------+-------+-------+---------+--------+-------+---------+--------+---------+--------+---------+--------------------+---------+-----------------+---------+--------------------+---------+--------------------+---------+--------+---------+--------+---------+--------+----------+---------+\n",
      "only showing top 20 rows\n",
      "\n"
     ]
    }
   ],
   "source": [
    "df.show()"
   ]
  },
  {
   "cell_type": "code",
   "execution_count": null,
   "metadata": {},
   "outputs": [],
   "source": []
  }
 ],
 "metadata": {
  "kernelspec": {
   "display_name": "Python 3",
   "language": "python",
   "name": "python3"
  },
  "language_info": {
   "codemirror_mode": {
    "name": "ipython",
    "version": 3
   },
   "file_extension": ".py",
   "mimetype": "text/x-python",
   "name": "python",
   "nbconvert_exporter": "python",
   "pygments_lexer": "ipython3",
   "version": "3.8.8"
  }
 },
 "nbformat": 4,
 "nbformat_minor": 4
}
