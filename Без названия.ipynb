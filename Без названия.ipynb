{
 "cells": [
  {
   "cell_type": "code",
   "execution_count": 1,
   "metadata": {},
   "outputs": [],
   "source": [
    "import os\n",
    "import shutil\n",
    "import datetime\n",
    "import pandas as pd\n",
    "from pyspark import SparkContext, SparkConf, HiveContext\n",
    "from pyspark.sql import SparkSession, Row, functions, Column\n",
    "from pyspark.sql.types import StringType \n",
    "import pyspark.sql.functions as F"
   ]
  },
  {
   "cell_type": "markdown",
   "metadata": {},
   "source": [
    "### Processors"
   ]
  },
  {
   "cell_type": "code",
   "execution_count": 20,
   "metadata": {},
   "outputs": [],
   "source": [
    "def process_scd2(ndata, sdata):\n",
    "    ndata = ndata.withColumnRenamed('Osm_id', 'new_Osm_id') \\\n",
    "        .withColumnRenamed('Par_osm_id', 'new_Par_osm_id') \\\n",
    "        .withColumnRenamed('Name', 'new_Name') \\\n",
    "        .withColumnRenamed('Level', 'new_Level') \\\n",
    "        .withColumnRenamed('val_to', 'new_val_to') \\\n",
    "        .withColumnRenamed('val_from', 'new_val_from')\n",
    "    \n",
    "    merged = ndata.join(sdata, sdata.Osm_id == ndata.new_Osm_id, how='fullouter')\n",
    "\n",
    "    merged = merged.withColumn(\n",
    "        'action', \n",
    "        F.when(merged.new_Osm_id.isNull(), 'keepold')\n",
    "        .when(merged.Osm_id.isNull(), 'insertnew')\n",
    "        .when(merged.new_Level != merged.Level, 'update')\n",
    "        .otherwise('noaction')\n",
    "    )\n",
    "\n",
    "    columns = ['Osm_id', 'Par_osm_id', 'Name', 'Level', 'val_to', 'val_from']\n",
    "\n",
    "    # process noaction\n",
    "    df_noact = merged.filter('action=\"noaction\"').select(columns)\n",
    "\n",
    "    # process keepold\n",
    "    df_keep = merged.filter('action=\"keepold\"').select(\n",
    "        merged.Osm_id,\n",
    "        merged.Par_osm_id,\n",
    "        merged.Name,\n",
    "        merged.Level,\n",
    "        merged.val_to,\n",
    "        merged.val_from\n",
    "    )\n",
    "\n",
    "    # process insertnew\n",
    "    df_new = merged.filter('action=\"insertnew\"').select(\n",
    "        merged.new_Osm_id.alias('Osm_id'),\n",
    "        merged.new_Par_osm_id.alias('Par_osm_id'),\n",
    "        merged.new_Name.alias('Name'),\n",
    "        merged.new_Level.alias('Level'),\n",
    "        merged.new_val_to.alias('val_to'),\n",
    "        merged.new_val_from.alias('val_from')\n",
    "    )\n",
    "\n",
    "    # process update\n",
    "    df_upd = merged.filter('action=\"update\"')\n",
    "\n",
    "    df_upd_old = df_upd.select(\n",
    "        df_upd.Osm_id,\n",
    "        df_upd.Par_osm_id,\n",
    "        df_upd.Name,\n",
    "        df_upd.Level,\n",
    "        df_upd.val_to,\n",
    "        df_upd.new_val_to.alias('val_from')\n",
    "    )\n",
    "\n",
    "    df_upd_new = df_upd.select(\n",
    "        df_upd.new_Osm_id.alias('Osm_id'),\n",
    "        df_upd.new_Par_osm_id.alias('Par_osm_id'),\n",
    "        df_upd.new_Name.alias('Name'),\n",
    "        df_upd.new_Level.alias('Level'),\n",
    "        df_upd.new_val_to.alias('val_to'),\n",
    "        df_upd.new_val_from.alias('val_from')\n",
    "    )\n",
    "\n",
    "    full_merged = df_noact.unionAll(df_keep).unionAll(df_new).unionAll(df_upd_old).unionAll(df_upd_new)\n",
    "    return full_merged\n",
    "\n",
    "\n",
    "def _get_last_nonnull_id(*osm_ids):\n",
    "    for osm_id in osm_ids:\n",
    "        if not pd.isna(osm_id):\n",
    "            return osm_id\n",
    "_last_nonnull_udf = F.udf(lambda osm_ids: _get_last_nonnull_id(*osm_ids), StringType())        \n",
    "\n",
    "class SparkLoader:\n",
    "    def __init__(self, memory=2, cores=2, driver_memory=2, app_name='osm'):\n",
    "        self._memory = memory\n",
    "        self._cores = cores\n",
    "        self._driver_memory = driver_memory\n",
    "        self._app_name = app_name\n",
    "        self._udf_cols = list(reversed([F.col(f'ADMIN_L{i}D') for i in range(1, 11)]))\n",
    "        self._session = self._create_session()\n",
    "    \n",
    "    @property\n",
    "    def session(self):\n",
    "        return self._session\n",
    "    \n",
    "    def _create_session(self):\n",
    "        spark_conf = SparkConf().setAppName(self._app_name)\n",
    "        spark_conf.set('spark.executor.memory', f'{self._memory}g')\n",
    "        spark_conf.set('spark.executor.cores', f'{self._cores}')\n",
    "        spark_conf.set('spark.driver.memory', f'{self._driver_memory}g')\n",
    "        spark_conf.set('spark.driver.extraClassPath', '/home/ripper/postgresql-42.2.19.jar')\n",
    "        spark_conf.set('spark.jars.packages', 'org.postgresql:postgresql:42.2.19')\n",
    "        return SparkSession.Builder().config(conf=spark_conf).getOrCreate()\n",
    "    \n",
    "    def process_csv_data(self, path):\n",
    "        df = self._session.read.options(header=True, delimiter=';').csv(path)\n",
    "        return df.withColumn('Par_osm_id', _last_nonnull_udf(F.array(self._udf_cols))) \\\n",
    "            .withColumnRenamed('OSM_ID', 'Osm_id') \\\n",
    "            .withColumnRenamed('NAME', 'Name') \\\n",
    "            .withColumnRenamed('ADMIN_LVL', 'Level') \\\n",
    "            .withColumn('val_to', F.lit(datetime.datetime.now())) \\\n",
    "            .withColumn('val_from', F.lit(datetime.datetime.max)) \\\n",
    "            .select('Osm_id', 'Par_osm_id', 'Name', 'Level', 'val_to', 'val_from')\n",
    "    \n",
    "    def write_data(self, df, filepath='osm.parquet', mode='append'):\n",
    "        df.write.mode('append').parquet(filepath)\n",
    "    \n",
    "    def read_parquet(self, path='osm.parquet'):\n",
    "        return self._session.read.parquet(path)\n",
    "    \n",
    "    def write2dbase(self, df, table='test'):\n",
    "        df.write.format(\"jdbc\").mode('overwrite') \\\n",
    "            .options(\n",
    "                     url='jdbc:postgresql://localhost:5454/',\n",
    "                     dbtable=table,\n",
    "                     user='postgres',\n",
    "                     password='docker',\n",
    "                     driver='org.postgresql.Driver'\n",
    "            ).saveAsTable(table)\n",
    "    \n",
    "    def read4dbase(self, df, table='test'):\n",
    "        return self._session.read.format(\"jdbc\"). \\\n",
    "        options(\n",
    "                 url='jdbc:postgresql://localhost:5454/',\n",
    "                 dbtable=table,\n",
    "                 user='postgres',\n",
    "                 password='docker',\n",
    "                 driver='org.postgresql.Driver'\n",
    "        ).load()\n",
    "    "
   ]
  },
  {
   "cell_type": "markdown",
   "metadata": {},
   "source": [
    "## Main part"
   ]
  },
  {
   "cell_type": "markdown",
   "metadata": {},
   "source": [
    "### process files and write parquet"
   ]
  },
  {
   "cell_type": "code",
   "execution_count": 3,
   "metadata": {},
   "outputs": [],
   "source": [
    "dir_path = 'data'\n",
    "files = list(map(lambda x: os.path.join(dir_path, x),os.listdir(dir_path)))"
   ]
  },
  {
   "cell_type": "code",
   "execution_count": 21,
   "metadata": {},
   "outputs": [],
   "source": [
    "loader = SparkLoader()"
   ]
  },
  {
   "cell_type": "code",
   "execution_count": 5,
   "metadata": {},
   "outputs": [],
   "source": [
    "if os.path.exists('osm.parquet'):\n",
    "    shutil.rmtree('osm.parquet')\n",
    "df = None\n",
    "for file in files:\n",
    "    if df is None:\n",
    "        df = loader.process_csv_data(file)\n",
    "    else:\n",
    "        df = df.union(loader.process_csv_data(file))"
   ]
  },
  {
   "cell_type": "code",
   "execution_count": 6,
   "metadata": {},
   "outputs": [],
   "source": [
    "old_data = loader.session.read.format(\"jdbc\"). \\\n",
    "options(\n",
    "         url='jdbc:postgresql://localhost:5454/',\n",
    "         dbtable='test',\n",
    "         user='postgres',\n",
    "         password='docker',\n",
    "         driver='org.postgresql.Driver'\n",
    ").load()"
   ]
  },
  {
   "cell_type": "code",
   "execution_count": 7,
   "metadata": {},
   "outputs": [
    {
     "name": "stdout",
     "output_type": "stream",
     "text": [
      "+-------+----------+--------------------+-----+--------------------+--------------------+\n",
      "| Osm_id|Par_osm_id|                Name|Level|              val_to|            val_from|\n",
      "+-------+----------+--------------------+-----+--------------------+--------------------+\n",
      "|5827722|   1430613|Правобережный адм...|    9|2021-03-21 06:30:...|9999-12-31 23:59:...|\n",
      "|5827642|   1430613|Октябрьский админ...|    9|2021-03-21 06:30:...|9999-12-31 23:59:...|\n",
      "|5826259|   1430613|Ленинский админис...|    9|2021-03-21 06:30:...|9999-12-31 23:59:...|\n",
      "|5827226|   1430613|Свердловский адми...|    9|2021-03-21 06:30:...|9999-12-31 23:59:...|\n",
      "| 145454|   1221148|   Иркутская область|    4|2021-03-21 06:30:...|9999-12-31 23:59:...|\n",
      "|  60189|      null|              Россия|    2|2021-03-21 06:30:...|9999-12-31 23:59:...|\n",
      "|5756862|   1456786|сельское поселени...|    8|2021-03-21 06:30:...|9999-12-31 23:59:...|\n",
      "|5756859|   1456786|сельское поселени...|    8|2021-03-21 06:30:...|9999-12-31 23:59:...|\n",
      "|5756857|   1456786|сельское поселени...|    8|2021-03-21 06:30:...|9999-12-31 23:59:...|\n",
      "|5756855|   1456786|сельское поселени...|    8|2021-03-21 06:30:...|9999-12-31 23:59:...|\n",
      "|5756854|   1456786|сельское поселени...|    8|2021-03-21 06:30:...|9999-12-31 23:59:...|\n",
      "|5756853|   1456786|Улейское сельское...|    8|2021-03-21 06:30:...|9999-12-31 23:59:...|\n",
      "|5756861|   1456786|сельское поселени...|    8|2021-03-21 06:30:...|9999-12-31 23:59:...|\n",
      "|5756858|   1456786|сельское поселени...|    8|2021-03-21 06:30:...|9999-12-31 23:59:...|\n",
      "|5756856|   1456786|сельское поселени...|    8|2021-03-21 06:30:...|9999-12-31 23:59:...|\n",
      "|5756696|   1456788|Ново-Николаевское...|    8|2021-03-21 06:30:...|9999-12-31 23:59:...|\n",
      "|5756852|   1456786|Каха-Онгойское се...|    8|2021-03-21 06:30:...|9999-12-31 23:59:...|\n",
      "|5756693|   1456788|Капсальское сельс...|    8|2021-03-21 06:30:...|9999-12-31 23:59:...|\n",
      "|5756699|   1456788|Усть-Ордынское се...|    8|2021-03-21 06:30:...|9999-12-31 23:59:...|\n",
      "|5756691|   1456788|Гаханское сельско...|    8|2021-03-21 06:30:...|9999-12-31 23:59:...|\n",
      "+-------+----------+--------------------+-----+--------------------+--------------------+\n",
      "only showing top 20 rows\n",
      "\n"
     ]
    }
   ],
   "source": [
    "old_data.show()"
   ]
  },
  {
   "cell_type": "code",
   "execution_count": 11,
   "metadata": {},
   "outputs": [],
   "source": [
    "df = process_scd2(df, old_data)"
   ]
  },
  {
   "cell_type": "code",
   "execution_count": 13,
   "metadata": {},
   "outputs": [
    {
     "data": {
      "text/plain": [
       "462"
      ]
     },
     "execution_count": 13,
     "metadata": {},
     "output_type": "execute_result"
    }
   ],
   "source": [
    "df.count()"
   ]
  },
  {
   "cell_type": "code",
   "execution_count": 12,
   "metadata": {},
   "outputs": [],
   "source": [
    "loader.write_data(df)"
   ]
  },
  {
   "cell_type": "code",
   "execution_count": 15,
   "metadata": {},
   "outputs": [
    {
     "name": "stdout",
     "output_type": "stream",
     "text": [
      "+-------+----------+--------------------+-----+--------------------+--------------------+\n",
      "| Osm_id|Par_osm_id|                Name|Level|              val_to|            val_from|\n",
      "+-------+----------+--------------------+-----+--------------------+--------------------+\n",
      "|5730689|   1464421|Новоигирминское г...|    8|2021-03-21 06:30:...|9999-12-31 23:59:...|\n",
      "|5738215|    190110|Староалзамайское ...|    8|2021-03-21 06:30:...|9999-12-31 23:59:...|\n",
      "|5722707|   1454435|Петропавловское с...|    8|2021-03-21 06:30:...|9999-12-31 23:59:...|\n",
      "|1104995|   1104970|Портбайкальское с...|    8|2021-03-21 06:30:...|9999-12-31 23:59:...|\n",
      "|5720461|   1459545|Голоустненское се...|    8|2021-03-21 06:30:...|9999-12-31 23:59:...|\n",
      "|5747207|   1463469|Большееланское се...|    8|2021-03-21 06:30:...|9999-12-31 23:59:...|\n",
      "|5753790|   1458139|Новостроевское се...|    8|2021-03-21 06:30:...|9999-12-31 23:59:...|\n",
      "|5747206|   1463469|Белореченское гор...|    8|2021-03-21 06:30:...|9999-12-31 23:59:...|\n",
      "|5719489|   1460711|Кимильтейское сел...|    8|2021-03-21 06:30:...|9999-12-31 23:59:...|\n",
      "|5752233|   1454692|Усть-Кутское горо...|    8|2021-03-21 06:30:...|9999-12-31 23:59:...|\n",
      "|5742491|    190098|Нижнезаимское сел...|    8|2021-03-21 06:30:...|9999-12-31 23:59:...|\n",
      "|5728517|   1464422|Вихоревское город...|    8|2021-03-21 06:30:...|9999-12-31 23:59:...|\n",
      "|5718706|    190136|Черемшанское сель...|    8|2021-03-21 06:30:...|9999-12-31 23:59:...|\n",
      "|5742492|    190098|Николаевское сель...|    8|2021-03-21 06:30:...|9999-12-31 23:59:...|\n",
      "|5721332|   1456241|Зареченское сельс...|    8|2021-03-21 06:30:...|9999-12-31 23:59:...|\n",
      "|5715822|   1456220|Лукиновское сельс...|    8|2021-03-21 06:30:...|9999-12-31 23:59:...|\n",
      "|5728530|   1464422|Озернинское сельс...|    8|2021-03-21 06:30:...|9999-12-31 23:59:...|\n",
      "|5720479|   1459545|Хомутовское сельс...|    8|2021-03-21 06:30:...|9999-12-31 23:59:...|\n",
      "|5756858|   1456786|сельское поселени...|    8|2021-03-21 06:30:...|9999-12-31 23:59:...|\n",
      "|5745077|    190128|Писаревское сельс...|    8|2021-03-21 06:30:...|9999-12-31 23:59:...|\n",
      "+-------+----------+--------------------+-----+--------------------+--------------------+\n",
      "only showing top 20 rows\n",
      "\n"
     ]
    }
   ],
   "source": [
    "loader.read_parquet().show()"
   ]
  },
  {
   "cell_type": "markdown",
   "metadata": {},
   "source": [
    "### write to dbase"
   ]
  },
  {
   "cell_type": "code",
   "execution_count": 22,
   "metadata": {},
   "outputs": [],
   "source": [
    "loader.write2dbase(df)"
   ]
  },
  {
   "cell_type": "code",
   "execution_count": 23,
   "metadata": {},
   "outputs": [],
   "source": [
    "table = loader.session.read.format(\"jdbc\"). \\\n",
    "options(\n",
    "         url='jdbc:postgresql://localhost:5454/',\n",
    "         dbtable='test',\n",
    "         user='postgres',\n",
    "         password='docker',\n",
    "         driver='org.postgresql.Driver'\n",
    ").load()"
   ]
  },
  {
   "cell_type": "code",
   "execution_count": 24,
   "metadata": {},
   "outputs": [
    {
     "name": "stdout",
     "output_type": "stream",
     "text": [
      "+-------+----------+--------------------+-----+--------------------+--------------------+\n",
      "| Osm_id|Par_osm_id|                Name|Level|              val_to|            val_from|\n",
      "+-------+----------+--------------------+-----+--------------------+--------------------+\n",
      "|1456789| 3438290.0|  Баяндаевский район|    6|2021-03-21 08:40:...|9999-12-31 23:59:...|\n",
      "|1460653|    145454|   Балаганский район|    6|2021-03-21 08:40:...|9999-12-31 23:59:...|\n",
      "|5720474|   1459545|Сосновоборское се...|    8|2021-03-21 08:40:...|9999-12-31 23:59:...|\n",
      "|5721326|   1456241|Бирюльское сельск...|    8|2021-03-21 08:40:...|9999-12-31 23:59:...|\n",
      "|5728519|   1464422|Зябинское сельско...|    8|2021-03-21 08:40:...|9999-12-31 23:59:...|\n",
      "|5756859|   1456786|сельское поселени...|    8|2021-03-21 08:40:...|9999-12-31 23:59:...|\n",
      "|5752233|   1454692|Усть-Кутское горо...|    8|2021-03-21 08:40:...|9999-12-31 23:59:...|\n",
      "|1469711|    145454|городской округ Б...|    6|2021-03-21 08:40:...|9999-12-31 23:59:...|\n",
      "|5739676|   1104970|Слюдянское городс...|    8|2021-03-21 08:40:...|9999-12-31 23:59:...|\n",
      "|5742493|    190098|Новобирюсинское г...|    8|2021-03-21 08:40:...|9999-12-31 23:59:...|\n",
      "| 190098|    145454|    Тайшетский район|    6|2021-03-21 08:40:...|9999-12-31 23:59:...|\n",
      "|5715820|   1456220|Знаменское сельск...|    8|2021-03-21 08:40:...|9999-12-31 23:59:...|\n",
      "|5728517|   1464422|Вихоревское город...|    8|2021-03-21 08:40:...|9999-12-31 23:59:...|\n",
      "|5719490|   1460711|Масляногорское се...|    8|2021-03-21 08:40:...|9999-12-31 23:59:...|\n",
      "|5720471|   1459545|Оёкское сельское ...|    8|2021-03-21 08:40:...|9999-12-31 23:59:...|\n",
      "|5755176|    190097|Каменское сельско...|    8|2021-03-21 08:40:...|9999-12-31 23:59:...|\n",
      "|5722707|   1454435|Петропавловское с...|    8|2021-03-21 08:40:...|9999-12-31 23:59:...|\n",
      "|5738218|    190110|Худоеланское сель...|    8|2021-03-21 08:40:...|9999-12-31 23:59:...|\n",
      "|5744642|    190098|Тамтачетское сель...|    8|2021-03-21 08:40:...|9999-12-31 23:59:...|\n",
      "|5728520|   1464422|Илирское сельское...|    8|2021-03-21 08:40:...|9999-12-31 23:59:...|\n",
      "+-------+----------+--------------------+-----+--------------------+--------------------+\n",
      "only showing top 20 rows\n",
      "\n"
     ]
    }
   ],
   "source": [
    "table.show()"
   ]
  },
  {
   "cell_type": "code",
   "execution_count": null,
   "metadata": {},
   "outputs": [],
   "source": []
  },
  {
   "cell_type": "markdown",
   "metadata": {},
   "source": [
    "### Test SCD2"
   ]
  },
  {
   "cell_type": "code",
   "execution_count": 102,
   "metadata": {},
   "outputs": [],
   "source": [
    "sdata = [\n",
    "    [\n",
    "        '5827722',\n",
    "        '1430613',\n",
    "        'Правобережный административный округ',\n",
    "        '8',\n",
    "        datetime.datetime.now(),\n",
    "        datetime.datetime(2025, 12, 31, 23, 00, 00)\n",
    "    ],\n",
    "    [\n",
    "        '5827721',\n",
    "        '1430613',\n",
    "        'Левобережный административный округ',\n",
    "        '8',\n",
    "        datetime.datetime.now(),\n",
    "        datetime.datetime(2025, 12, 31, 23, 00, 00)\n",
    "    ],\n",
    "    [\n",
    "        '582771',\n",
    "        '1430613',\n",
    "        'gdfдминистративный округ',\n",
    "        '8',\n",
    "        datetime.datetime.now(),\n",
    "        datetime.datetime(2025, 12, 31, 23, 00, 00)\n",
    "    ]\n",
    "    \n",
    "]\n",
    "source_data = pd.DataFrame(sdata, columns=['Osm_id', 'Par_osm_id', \n",
    "                                           'Name', 'Level', 'val_to', 'val_from'])\n",
    "\n",
    "ndata = [\n",
    "    [\n",
    "        '5827722',\n",
    "        '1430613',\n",
    "        'Правобережный административный округ',\n",
    "        '7',\n",
    "        datetime.datetime(2022, 12, 12,23, 00, 00),\n",
    "        datetime.datetime(2025, 12, 31, 23, 00, 00)\n",
    "    ],\n",
    "    [\n",
    "        '5827720',\n",
    "        '1430614',\n",
    "        'sa административный округ',\n",
    "        '7',\n",
    "        datetime.datetime(2022, 12, 12,23, 00, 00),\n",
    "        datetime.datetime(2025, 12, 31, 23, 00, 00)\n",
    "    ],\n",
    "    [\n",
    "        '582771',\n",
    "        '1430613',\n",
    "        'gdfдминистративный округ',\n",
    "        '4',\n",
    "        datetime.datetime(2022, 12, 12,23, 00, 00),\n",
    "        datetime.datetime(2025, 12, 31, 23, 00, 00)\n",
    "    ]\n",
    "]\n",
    "new_data = pd.DataFrame(ndata, columns=['new_Osm_id', 'new_Par_osm_id', \n",
    "                                           'new_Name', 'new_Level', 'new_val_to', 'new_val_from'])"
   ]
  },
  {
   "cell_type": "code",
   "execution_count": 103,
   "metadata": {},
   "outputs": [],
   "source": [
    "sdata = loader.session.createDataFrame(source_data)\n",
    "ndata = loader.session.createDataFrame(new_data)"
   ]
  },
  {
   "cell_type": "code",
   "execution_count": 104,
   "metadata": {},
   "outputs": [],
   "source": [
    "merged = ndata.join(sdata, sdata.Osm_id == ndata.new_Osm_id, how='fullouter')\n",
    "\n",
    "merged = merged.withColumn(\n",
    "    'action', \n",
    "    F.when(merged.new_Osm_id.isNull(), 'keepold')\n",
    "    .when(merged.Osm_id.isNull(), 'insertnew')\n",
    "    .when(merged.new_Level != merged.Level, 'update')\n",
    "    .otherwise('noaction')\n",
    ")\n",
    "\n",
    "columns = ['Osm_id', 'Par_osm_id', 'Name', 'Level', 'val_to', 'val_from']\n",
    "\n",
    "# process noaction\n",
    "df_noact = merged.filter('action=\"noaction\"').select(columns)\n",
    "\n",
    "# process keepold\n",
    "df_keep = merged.filter('action=\"keepold\"').select(\n",
    "    merged.Osm_id,\n",
    "    merged.Par_osm_id,\n",
    "    merged.Name,\n",
    "    merged.Level,\n",
    "    merged.val_to,\n",
    "    merged.val_from\n",
    ")\n",
    "\n",
    "# process insertnew\n",
    "df_new = merged.filter('action=\"insertnew\"').select(\n",
    "    merged.new_Osm_id.alias('Osm_id'),\n",
    "    merged.new_Par_osm_id.alias('Par_osm_id'),\n",
    "    merged.new_Name.alias('Name'),\n",
    "    merged.new_Level.alias('Level'),\n",
    "    merged.new_val_to.alias('val_to'),\n",
    "    merged.new_val_from.alias('val_from')\n",
    ")\n",
    "\n",
    "# process update\n",
    "df_upd = merged.filter('action=\"update\"')\n",
    "\n",
    "df_upd_old = df_upd.select(\n",
    "    df_upd.Osm_id,\n",
    "    df_upd.Par_osm_id,\n",
    "    df_upd.Name,\n",
    "    df_upd.Level,\n",
    "    df_upd.val_to,\n",
    "    df_upd.new_val_to.alias('val_from')\n",
    ")\n",
    "\n",
    "df_upd_new = df_upd.select(\n",
    "    df_upd.new_Osm_id.alias('Osm_id'),\n",
    "    df_upd.new_Par_osm_id.alias('Par_osm_id'),\n",
    "    df_upd.new_Name.alias('Name'),\n",
    "    df_upd.new_Level.alias('Level'),\n",
    "    df_upd.new_val_to.alias('val_to'),\n",
    "    df_upd.new_val_from.alias('val_from')\n",
    ")\n",
    "\n",
    "full_merged = df_noact.unionAll(df_keep).unionAll(df_new).unionAll(df_upd_old).unionAll(df_upd_new)"
   ]
  },
  {
   "cell_type": "code",
   "execution_count": 113,
   "metadata": {},
   "outputs": [
    {
     "data": {
      "text/html": [
       "<div>\n",
       "<style scoped>\n",
       "    .dataframe tbody tr th:only-of-type {\n",
       "        vertical-align: middle;\n",
       "    }\n",
       "\n",
       "    .dataframe tbody tr th {\n",
       "        vertical-align: top;\n",
       "    }\n",
       "\n",
       "    .dataframe thead th {\n",
       "        text-align: right;\n",
       "    }\n",
       "</style>\n",
       "<table border=\"1\" class=\"dataframe\">\n",
       "  <thead>\n",
       "    <tr style=\"text-align: right;\">\n",
       "      <th></th>\n",
       "      <th>Osm_id</th>\n",
       "      <th>Par_osm_id</th>\n",
       "      <th>Name</th>\n",
       "      <th>Level</th>\n",
       "      <th>val_to</th>\n",
       "      <th>val_from</th>\n",
       "    </tr>\n",
       "  </thead>\n",
       "  <tbody>\n",
       "    <tr>\n",
       "      <th>0</th>\n",
       "      <td>5827721</td>\n",
       "      <td>1430613</td>\n",
       "      <td>Левобережный административный округ</td>\n",
       "      <td>8</td>\n",
       "      <td>2021-03-21 08:33:19.164631</td>\n",
       "      <td>2025-12-31 23:00:00</td>\n",
       "    </tr>\n",
       "    <tr>\n",
       "      <th>1</th>\n",
       "      <td>5827720</td>\n",
       "      <td>1430614</td>\n",
       "      <td>sa административный округ</td>\n",
       "      <td>7</td>\n",
       "      <td>2022-12-12 23:00:00.000000</td>\n",
       "      <td>2025-12-31 23:00:00</td>\n",
       "    </tr>\n",
       "    <tr>\n",
       "      <th>2</th>\n",
       "      <td>5827722</td>\n",
       "      <td>1430613</td>\n",
       "      <td>Правобережный административный округ</td>\n",
       "      <td>8</td>\n",
       "      <td>2021-03-21 08:33:19.164619</td>\n",
       "      <td>2022-12-12 23:00:00</td>\n",
       "    </tr>\n",
       "    <tr>\n",
       "      <th>3</th>\n",
       "      <td>582771</td>\n",
       "      <td>1430613</td>\n",
       "      <td>gdfдминистративный округ</td>\n",
       "      <td>8</td>\n",
       "      <td>2021-03-21 08:33:19.164632</td>\n",
       "      <td>2022-12-12 23:00:00</td>\n",
       "    </tr>\n",
       "    <tr>\n",
       "      <th>4</th>\n",
       "      <td>5827722</td>\n",
       "      <td>1430613</td>\n",
       "      <td>Правобережный административный округ</td>\n",
       "      <td>7</td>\n",
       "      <td>2022-12-12 23:00:00.000000</td>\n",
       "      <td>2025-12-31 23:00:00</td>\n",
       "    </tr>\n",
       "    <tr>\n",
       "      <th>5</th>\n",
       "      <td>582771</td>\n",
       "      <td>1430613</td>\n",
       "      <td>gdfдминистративный округ</td>\n",
       "      <td>4</td>\n",
       "      <td>2022-12-12 23:00:00.000000</td>\n",
       "      <td>2025-12-31 23:00:00</td>\n",
       "    </tr>\n",
       "  </tbody>\n",
       "</table>\n",
       "</div>"
      ],
      "text/plain": [
       "    Osm_id Par_osm_id                                  Name Level  \\\n",
       "0  5827721    1430613   Левобережный административный округ     8   \n",
       "1  5827720    1430614             sa административный округ     7   \n",
       "2  5827722    1430613  Правобережный административный округ     8   \n",
       "3   582771    1430613              gdfдминистративный округ     8   \n",
       "4  5827722    1430613  Правобережный административный округ     7   \n",
       "5   582771    1430613              gdfдминистративный округ     4   \n",
       "\n",
       "                      val_to            val_from  \n",
       "0 2021-03-21 08:33:19.164631 2025-12-31 23:00:00  \n",
       "1 2022-12-12 23:00:00.000000 2025-12-31 23:00:00  \n",
       "2 2021-03-21 08:33:19.164619 2022-12-12 23:00:00  \n",
       "3 2021-03-21 08:33:19.164632 2022-12-12 23:00:00  \n",
       "4 2022-12-12 23:00:00.000000 2025-12-31 23:00:00  \n",
       "5 2022-12-12 23:00:00.000000 2025-12-31 23:00:00  "
      ]
     },
     "execution_count": 113,
     "metadata": {},
     "output_type": "execute_result"
    }
   ],
   "source": [
    "full_merged.toPandas()"
   ]
  },
  {
   "cell_type": "code",
   "execution_count": null,
   "metadata": {},
   "outputs": [],
   "source": []
  },
  {
   "cell_type": "code",
   "execution_count": null,
   "metadata": {},
   "outputs": [],
   "source": []
  }
 ],
 "metadata": {
  "kernelspec": {
   "display_name": "Python 3",
   "language": "python",
   "name": "python3"
  },
  "language_info": {
   "codemirror_mode": {
    "name": "ipython",
    "version": 3
   },
   "file_extension": ".py",
   "mimetype": "text/x-python",
   "name": "python",
   "nbconvert_exporter": "python",
   "pygments_lexer": "ipython3",
   "version": "3.7.3"
  }
 },
 "nbformat": 4,
 "nbformat_minor": 4
}
